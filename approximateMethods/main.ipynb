{
 "cells": [
  {
   "cell_type": "code",
   "execution_count": 1,
   "metadata": {},
   "outputs": [],
   "source": [
    "import sympy as sym\n",
    "import numpy as np\n",
    "import matplotlib.pyplot as plt\n",
    "from IPython.display import display,Math"
   ]
  },
  {
   "cell_type": "markdown",
   "metadata": {},
   "source": [
    "#### Solving equation with Newton's Approximate Tangent"
   ]
  },
  {
   "cell_type": "code",
   "execution_count": 30,
   "metadata": {},
   "outputs": [
    {
     "data": {
      "text/plain": [
       "' x = sym.symbols(\\'x\\')\\n\\neq = x**2 + sym.ln(x)\\n\\n# Divide the equation into two functions\\n\\ngx = - x**2\\nhx = sym.ln(x)\\n\\n# Plotting the functions\\n\\ngxx = sym.lambdify(x,gx)\\nhxx = sym.lambdify(x,hx)\\n\\nxx = np.linspace(-1,10,1000)\\n\\nplt.plot(xx,gxx(xx), label=\"g(x)\")\\nplt.plot(xx, hxx(xx), label=\"h(x)\")\\nplt.legend()\\nplt.grid()\\nplt.show() '"
      ]
     },
     "execution_count": 30,
     "metadata": {},
     "output_type": "execute_result"
    }
   ],
   "source": [
    "''' x = sym.symbols('x')\n",
    "\n",
    "eq = x**2 + sym.ln(x)\n",
    "\n",
    "# Divide the equation into two functions\n",
    "\n",
    "gx = - x**2\n",
    "hx = sym.ln(x)\n",
    "\n",
    "# Plotting the functions\n",
    "\n",
    "gxx = sym.lambdify(x,gx)\n",
    "hxx = sym.lambdify(x,hx)\n",
    "\n",
    "xx = np.linspace(-1,10,1000)\n",
    "\n",
    "plt.plot(xx,gxx(xx), label=\"g(x)\")\n",
    "plt.plot(xx, hxx(xx), label=\"h(x)\")\n",
    "plt.legend()\n",
    "plt.grid()\n",
    "plt.show() '''"
   ]
  }
 ],
 "metadata": {
  "kernelspec": {
   "display_name": "Python 3",
   "language": "python",
   "name": "python3"
  },
  "language_info": {
   "codemirror_mode": {
    "name": "ipython",
    "version": 3
   },
   "file_extension": ".py",
   "mimetype": "text/x-python",
   "name": "python",
   "nbconvert_exporter": "python",
   "pygments_lexer": "ipython3",
   "version": "3.11.5"
  },
  "orig_nbformat": 4
 },
 "nbformat": 4,
 "nbformat_minor": 2
}
